{
 "cells": [
  {
   "cell_type": "markdown",
   "id": "66767eba-8d53-4c3c-84dd-2cc0d3e65a0d",
   "metadata": {},
   "source": [
    "Q1. Create one variable containing following type of data:"
   ]
  },
  {
   "cell_type": "raw",
   "id": "814e24d2-5113-4df1-ac7a-e1735d593f72",
   "metadata": {},
   "source": [
    "Ans: (1) var_str=\"PwSkill\"\n",
    "     (2) var_Lst=[1,2,\"abc\",\"ShubhamKushwaha\"]\n",
    "     (3) var_float=3.16\n",
    "     (4) var_tuple={1,4,5,7,\"abc\"}"
   ]
  },
  {
   "cell_type": "raw",
   "id": "dbfa0521-218a-445b-bb68-c75ddfc18825",
   "metadata": {},
   "source": [
    "Q2. Given are some following variables containing data:\n",
    "\n",
    "(i) var1 = ‘ ‘\n",
    "\n",
    "(ii) var2 = ‘[ DS , ML , Python]’\n",
    "\n",
    "(iii) var3 = [ ‘DS’ , ’ML’ , ‘Python’ ]\n",
    "\n",
    "(iv) var4 = 1."
   ]
  },
  {
   "cell_type": "raw",
   "id": "9c020f98-22e9-4d01-9ad5-04a7dd91d3d3",
   "metadata": {},
   "source": [
    "Ans: (1) String Data type\n",
    "     (2) String Data type\n",
    "     (3) List Data type\n",
    "     (4) Float data type"
   ]
  },
  {
   "cell_type": "raw",
   "id": "4af3063c-620e-4b61-b2fd-b4748af64a4c",
   "metadata": {},
   "source": [
    "Q3. Explain the use of the following operators using an example:\n",
    "\n",
    "(i) /\n",
    "\n",
    "(ii) % \n",
    "\n",
    "(iii) //\n",
    "\n",
    "(iv) **"
   ]
  },
  {
   "cell_type": "raw",
   "id": "55017a03-211e-434c-947a-add2587978ab",
   "metadata": {},
   "source": [
    "Ans: (1) Division Operator(/):- This is used to perform arithmatic Division operation.\n",
    "                                Example 10/2=5                                                \n",
    "     (2) Modulus Operator(%):- This operator returns the remainder of an Arithmatic Division.                                Example 10%3=1                                               \n",
    "     \n",
    "     (3) Floor Division Operator(//):- This operator returns the  Integer value in an                                                Arithmatic Division and remove portion of result after                                        decimal.\n",
    "                                       Example 5//2=2\n",
    "     (4) Exponent Operator(**):- This is used to find power or exponent of any number.\n",
    "                                 Example 2**3=8\n",
    "                                         5**4=625"
   ]
  },
  {
   "cell_type": "raw",
   "id": "176b2943-ac76-4597-b167-8725a4bed5ee",
   "metadata": {},
   "source": [
    "Q4. Create a list of length 10 of your choice containing multiple types of data. Using for       loop print the element and its data type."
   ]
  },
  {
   "cell_type": "code",
   "execution_count": 1,
   "id": "1f5a2082-e4e2-4749-9ced-143c72cdc48e",
   "metadata": {},
   "outputs": [
    {
     "name": "stdout",
     "output_type": "stream",
     "text": [
      "1 <class 'int'>\n",
      "4 <class 'int'>\n",
      "8 <class 'int'>\n",
      "abc <class 'str'>\n",
      "3.16 <class 'float'>\n",
      "PwSkill <class 'str'>\n",
      "[1, 2, 3] <class 'list'>\n",
      "5.10 <class 'str'>\n",
      "(2, 4, 5) <class 'tuple'>\n",
      "{2, 4, 6} <class 'set'>\n"
     ]
    }
   ],
   "source": [
    "Lst=[1,4,8,\"abc\",3.16,\"PwSkill\",[1,2,3],\"5.10\",(2,4,5),{2,4,6}]\n",
    "for i in Lst:\n",
    "    print(i,type(i))      "
   ]
  },
  {
   "cell_type": "raw",
   "id": "1bc69f07-14e2-4c17-9099-905d3341b202",
   "metadata": {},
   "source": [
    "Q5. Using a while loop, verify if the number A is purely divisible by number B and if so then how many times it can be divisible."
   ]
  },
  {
   "cell_type": "code",
   "execution_count": 2,
   "id": "a5be2d24-7579-421e-9dd3-5a9744a591db",
   "metadata": {},
   "outputs": [
    {
     "name": "stdin",
     "output_type": "stream",
     "text": [
      " 125\n",
      " 5\n"
     ]
    },
    {
     "name": "stdout",
     "output_type": "stream",
     "text": [
      "Number of times A is purely Divisible by B= 3\n"
     ]
    }
   ],
   "source": [
    "A=int(input())\n",
    "B=int(input())\n",
    "count=0\n",
    "while(A%B==0):\n",
    "    count=count+1\n",
    "    A=A/B\n",
    "if(count!=0):\n",
    "    print(\"Number of times A is purely Divisible by B=\",count)"
   ]
  },
  {
   "cell_type": "raw",
   "id": "a59f9a82-887e-4e95-a3c0-e97d744756d1",
   "metadata": {},
   "source": [
    "Q6. Create a list containing 25 int type data. Using for loop and if-else condition print if the element is divisible by 3 or not."
   ]
  },
  {
   "cell_type": "code",
   "execution_count": 3,
   "id": "ce0aecf7-db51-4160-9034-89e7394c04a4",
   "metadata": {},
   "outputs": [
    {
     "name": "stdout",
     "output_type": "stream",
     "text": [
      "The element is divisible by 3\n",
      "The element is not divisible by 3\n",
      "The element is not divisible by 3\n",
      "The element is divisible by 3\n",
      "The element is not divisible by 3\n",
      "The element is not divisible by 3\n",
      "The element is divisible by 3\n",
      "The element is not divisible by 3\n",
      "The element is not divisible by 3\n",
      "The element is divisible by 3\n",
      "The element is not divisible by 3\n",
      "The element is not divisible by 3\n",
      "The element is divisible by 3\n",
      "The element is not divisible by 3\n",
      "The element is not divisible by 3\n",
      "The element is divisible by 3\n",
      "The element is not divisible by 3\n",
      "The element is not divisible by 3\n",
      "The element is divisible by 3\n",
      "The element is not divisible by 3\n",
      "The element is not divisible by 3\n",
      "The element is divisible by 3\n",
      "The element is not divisible by 3\n",
      "The element is not divisible by 3\n",
      "The element is divisible by 3\n"
     ]
    }
   ],
   "source": [
    "Lst=list(range(25))\n",
    "for i in Lst:\n",
    "    if i%3==0:\n",
    "        print(\"The element is divisible by 3\")\n",
    "    else:\n",
    "        print(\"The element is not divisible by 3\")"
   ]
  },
  {
   "cell_type": "raw",
   "id": "19f2374f-09b6-4dc2-acee-47a98036ae19",
   "metadata": {},
   "source": [
    "Q7. What do you understand about mutable and immutable data types? Give examples for both showing this property."
   ]
  },
  {
   "cell_type": "raw",
   "id": "f4e68f62-824f-419e-ac26-66357c29a6a0",
   "metadata": {},
   "source": [
    "Ans: Mutable Data type:-Those data type which allow modification in its element after                                 creation called mutable data type.\n",
    "                        Example- list and dictionary\n",
    "     \n",
    "     Immutable Data type:-Those data type which do not allow any modification in its element                           after creation called immutable data type.If modification is done                             then a new object is created instead of modifying original one.\n",
    "                          Example- String and Tuple"
   ]
  },
  {
   "cell_type": "code",
   "execution_count": 4,
   "id": "65002250-5836-42b1-a4a0-c7ee3f827a3c",
   "metadata": {},
   "outputs": [
    {
     "ename": "TypeError",
     "evalue": "'str' object does not support item assignment",
     "output_type": "error",
     "traceback": [
      "\u001b[0;31m---------------------------------------------------------------------------\u001b[0m",
      "\u001b[0;31mTypeError\u001b[0m                                 Traceback (most recent call last)",
      "Cell \u001b[0;32mIn[4], line 2\u001b[0m\n\u001b[1;32m      1\u001b[0m Var_str\u001b[38;5;241m=\u001b[39m\u001b[38;5;124m\"\u001b[39m\u001b[38;5;124mabcd\u001b[39m\u001b[38;5;124m\"\u001b[39m\n\u001b[0;32m----> 2\u001b[0m \u001b[43mVar_str\u001b[49m\u001b[43m[\u001b[49m\u001b[38;5;241;43m2\u001b[39;49m\u001b[43m]\u001b[49m\u001b[38;5;241m=\u001b[39m\u001b[38;5;124m'\u001b[39m\u001b[38;5;124mf\u001b[39m\u001b[38;5;124m'\u001b[39m\n\u001b[1;32m      3\u001b[0m \u001b[38;5;28mprint\u001b[39m(Var_str)\n",
      "\u001b[0;31mTypeError\u001b[0m: 'str' object does not support item assignment"
     ]
    }
   ],
   "source": [
    "Var_str=\"abcd\"\n",
    "Var_str[2]='f'\n",
    "print(Var_str)"
   ]
  },
  {
   "cell_type": "code",
   "execution_count": 5,
   "id": "2b14d6f0-bd45-4b88-be25-16b0e83d53cb",
   "metadata": {},
   "outputs": [
    {
     "name": "stdout",
     "output_type": "stream",
     "text": [
      "[1, 4, 5, 6, 9]\n"
     ]
    }
   ],
   "source": [
    "Var_lst=[1,4,2,6,9]\n",
    "Var_lst[2]=5\n",
    "print(Var_lst)"
   ]
  }
 ],
 "metadata": {
  "kernelspec": {
   "display_name": "Python 3 (ipykernel)",
   "language": "python",
   "name": "python3"
  },
  "language_info": {
   "codemirror_mode": {
    "name": "ipython",
    "version": 3
   },
   "file_extension": ".py",
   "mimetype": "text/x-python",
   "name": "python",
   "nbconvert_exporter": "python",
   "pygments_lexer": "ipython3",
   "version": "3.10.8"
  }
 },
 "nbformat": 4,
 "nbformat_minor": 5
}
